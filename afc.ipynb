{
 "cells": [
  {
   "cell_type": "code",
   "execution_count": 1,
   "id": "592ebcd0-ba59-465d-97b1-ec63bbdb1fbe",
   "metadata": {},
   "outputs": [],
   "source": [
    "import pandas as pd\n",
    "import numpy as np\n",
    "import matplotlib.pyplot as plt\n",
    "import seaborn as sns\n",
    "import warnings\n",
    "warnings.filterwarnings('ignore')\n",
    "pd.options.display.float_format = '{:,.2f}'.format\n",
    "%matplotlib inline"
   ]
  },
  {
   "cell_type": "code",
   "execution_count": 2,
   "id": "6e798173-0fbe-48e4-a235-3f7a861ab614",
   "metadata": {},
   "outputs": [],
   "source": [
    "cg2021 = pd.read_spss(\"2021/cgnac2021.sav\", usecols=['Identificador', 'cg_vive_predio_pr', 'cg_dista_pre_viv'])\n",
    "eu2021 = pd.read_spss(\"2021/eunac2021.sav\", usecols=['Identificador', 'eu_k1301', 'eu_k1304', 'eu_k1307', 'fact_exp_fin']).fillna(0)"
   ]
  },
  {
   "cell_type": "markdown",
   "id": "98bb1011-5e3a-4a26-8fc3-858cefe4bc64",
   "metadata": {},
   "source": [
    "#### Selección de casos productivos "
   ]
  },
  {
   "cell_type": "code",
   "execution_count": 3,
   "id": "2a259ee1-663d-40d8-8ee3-416404eeddf5",
   "metadata": {},
   "outputs": [],
   "source": [
    "eu2021 = eu2021.loc[eu2021.fact_exp_fin != 0]"
   ]
  },
  {
   "cell_type": "markdown",
   "id": "80fc217e-1676-480d-b9f2-e6dd3afe8b3c",
   "metadata": {},
   "source": [
    "#### Unión de bases: Empleo + Características Generales"
   ]
  },
  {
   "cell_type": "code",
   "execution_count": 4,
   "id": "5751cd91-2930-491c-894c-700db239d6ba",
   "metadata": {},
   "outputs": [],
   "source": [
    "eucg = pd.merge(eu2021, cg2021, on = 'Identificador')"
   ]
  },
  {
   "cell_type": "markdown",
   "id": "5892f2c6-16db-401a-8b82-9f8f2df3656a",
   "metadata": {},
   "source": [
    "## Variables de tiempo dedicado al trabajo\n",
    "\n",
    "Esta información no se encuentra publicada en la página del INEC, por lo que fué necesario solicitar dicha información. La base que contiene las variables de tiempo dedicado a la labor agropecuaria es: `eunac2021_nueva.sav`"
   ]
  },
  {
   "cell_type": "code",
   "execution_count": 5,
   "id": "d0b69c37-fd67-480a-b42d-8fa02a727a47",
   "metadata": {},
   "outputs": [],
   "source": [
    "empleo2021 = pd.read_spss(\"2021/eunac2021_nueva.sav\").fillna(0)"
   ]
  },
  {
   "cell_type": "code",
   "execution_count": 6,
   "id": "2e0a83ad-1daf-47c6-a0ce-a1d15b29ff5b",
   "metadata": {},
   "outputs": [],
   "source": [
    "#Identificador\n",
    "empleo2021['Identificador'] = empleo2021.ual_prov + empleo2021.ual_cant + empleo2021.ual_parr + \\\n",
    "                              empleo2021.ual_estr + empleo2021.ual_segm + empleo2021.al_ncues"
   ]
  },
  {
   "cell_type": "markdown",
   "id": "13efbb77-6da9-47cd-8ba0-ad901ae26b0e",
   "metadata": {},
   "source": [
    "#### Tiempo promedio trabajado por persona\n",
    "- Semanas promedio trabajadas por trimestre\n",
    "- Horas promedio trabajadas a la semana"
   ]
  },
  {
   "cell_type": "code",
   "execution_count": 7,
   "id": "2c90606a-46d6-4725-8856-45ff8ec873c1",
   "metadata": {},
   "outputs": [],
   "source": [
    "#Persona productora\n",
    "pp_sem = ['tfsr_prosempp_pt', 'tfsr_prosempp_st', 'tfsr_prosempp_tt', 'tfsr_prosempp_ct']\n",
    "pp_hrs = ['tfsr_prohorpp_pt', 'tfsr_prohorpp_st', 'tfsr_prohorpp_tt', 'tfsr_prohorpp_ct']\n",
    "\n",
    "#Trabajadores familiares\n",
    "tf_sem = ['tfsr_prosemt_pt', 'tfsr_prosemt_st', 'tfsr_prosemt_tt', 'tfsr_prosemt_ct']\n",
    "tf_hrs = ['tfsr_prohort_pt', 'tfsr_prohort_st', 'tfsr_prohort_tt', 'tfsr_prohort_ct']"
   ]
  },
  {
   "cell_type": "markdown",
   "id": "865a1c97-4ac0-4e52-aead-79a98a170628",
   "metadata": {},
   "source": [
    "#### Número de trabajadores por género y tipo"
   ]
  },
  {
   "cell_type": "code",
   "execution_count": 8,
   "id": "5e602ce1-0e5f-43a5-8f85-86284abc3955",
   "metadata": {},
   "outputs": [],
   "source": [
    "pp_h = ['tfsr_trafapph_pt', 'tfsr_trafapph_st', 'tfsr_trafapph_tt', 'tfsr_trafapph_ct']\n",
    "pp_m = ['tfsr_trafappm_pt', 'tfsr_trafappm_st', 'tfsr_trafappm_tt', 'tfsr_trafappm_ct']\n",
    "\n",
    "tf_h = ['tfsr_trafamh_pt', 'tfsr_trafamh_st', 'tfsr_trafamh_tt', 'tfsr_trafamh_ct']\n",
    "tf_m = ['tfsr_trafamm_pt', 'tfsr_trafamm_st', 'tfsr_trafamm_tt', 'tfsr_trafamm_ct']"
   ]
  },
  {
   "cell_type": "markdown",
   "id": "b82ce48f-3457-4aa0-8352-fbaac9225d11",
   "metadata": {},
   "source": [
    "#### Horas totales trabajadas por trimestre"
   ]
  },
  {
   "cell_type": "code",
   "execution_count": 9,
   "id": "f88beb52-5c44-43fc-9669-ab867cca1d6d",
   "metadata": {},
   "outputs": [],
   "source": [
    "#Persona productora\n",
    "pp = np.add(empleo2021[pp_h],empleo2021[pp_m])\n",
    "pp_hrs_trim_prom = np.multiply(empleo2021[pp_sem], empleo2021[pp_hrs])\n",
    "pp_hrs_trim_totl = np.multiply(pp_hrs_trim_prom, pp)\n",
    "\n",
    "#Trabajadores familiares\n",
    "tf = np.add(empleo2021[tf_h],empleo2021[tf_m])\n",
    "tf_hrs_trim_prom = np.multiply(empleo2021[tf_sem], empleo2021[tf_hrs])\n",
    "tf_hrs_trim_totl = np.multiply(tf_hrs_trim_prom, tf)"
   ]
  },
  {
   "cell_type": "markdown",
   "id": "13c483fa-b6a1-4188-a3c9-dafcdce2d64f",
   "metadata": {},
   "source": [
    "#### Horas totales trabajadas por año (persona productora y trabajadores familiares)"
   ]
  },
  {
   "cell_type": "code",
   "execution_count": 10,
   "id": "2c8387ca-b533-4294-bd88-fff65d80e4ef",
   "metadata": {},
   "outputs": [],
   "source": [
    "ppf = pp_hrs_trim_totl.sum(axis=1) + tf_hrs_trim_totl.sum(axis=1)"
   ]
  },
  {
   "cell_type": "code",
   "execution_count": 11,
   "id": "077f5e45-1bc8-40be-9a0f-c135108a59d9",
   "metadata": {},
   "outputs": [],
   "source": [
    "empleo2021['hrs_tot'] = ppf                             # Añadiendo a la nueva base el campo de horas totales trabajadas\n",
    "empleo_hrs = empleo2021.loc[:,'Identificador':]         # Seleccionando el campo Identificador y hrs_tot"
   ]
  },
  {
   "cell_type": "markdown",
   "id": "f90d6c63-8d38-4aaf-bca8-e79426d2ebdc",
   "metadata": {},
   "source": [
    "#### Unión de bases: (Empleo + Características generales) + Horas empleadas"
   ]
  },
  {
   "cell_type": "code",
   "execution_count": 12,
   "id": "d34b3b38-40e1-4053-b192-3efb82e19188",
   "metadata": {},
   "outputs": [],
   "source": [
    "consolidado = pd.merge(eucg, empleo_hrs, on='Identificador', how='left')"
   ]
  },
  {
   "cell_type": "markdown",
   "id": "7f5d5264-6f7d-4992-8a08-09d419435cad",
   "metadata": {},
   "source": [
    "## Criterios AFC\n",
    "#### Criterio residencia"
   ]
  },
  {
   "cell_type": "code",
   "execution_count": 13,
   "id": "092d63f3-8cd4-4fa5-92b6-4ed38113f659",
   "metadata": {},
   "outputs": [
    {
     "data": {
      "text/plain": [
       "'El 90.62% de los productores cumple con el criterio de residencia'"
      ]
     },
     "execution_count": 13,
     "metadata": {},
     "output_type": "execute_result"
    }
   ],
   "source": [
    "c1 = consolidado['cg_vive_predio_pr'] == 'SI'\n",
    "c2 = consolidado['cg_dista_pre_viv'].between(0, 50)\n",
    "\n",
    "f\"El {consolidado[c1|c2].shape[0] / consolidado.shape[0]:.2%} de los productores cumple con el criterio de residencia\""
   ]
  },
  {
   "cell_type": "markdown",
   "id": "8b7ce852-435d-40f1-93f4-555330c997ce",
   "metadata": {},
   "source": [
    "#### Criterio mano de obra familiar"
   ]
  },
  {
   "cell_type": "code",
   "execution_count": 14,
   "id": "a1c98c40-6818-4436-af4b-49c767f8e857",
   "metadata": {},
   "outputs": [
    {
     "data": {
      "text/plain": [
       "'El 85.81% de los productores cumple con el criterio de mano de obra'"
      ]
     },
     "execution_count": 14,
     "metadata": {},
     "output_type": "execute_result"
    }
   ],
   "source": [
    "consolidado['manodeobra'] = consolidado['eu_k1304'] / (consolidado['eu_k1304'] + consolidado['eu_k1307'])\n",
    "c3 = consolidado['manodeobra'] >= 0.6\n",
    "\n",
    "'El {:.2%} de los productores cumple con el criterio de mano de obra'.format(consolidado[c3].shape[0] / consolidado.shape[0])"
   ]
  },
  {
   "cell_type": "markdown",
   "id": "d5fe9e4e-f181-4bc1-9cbc-0dfd03fa9403",
   "metadata": {},
   "source": [
    "#### Criterio tiempo completo"
   ]
  },
  {
   "cell_type": "code",
   "execution_count": 15,
   "id": "6dbeace8-4223-428e-9189-d4eec05e4a9c",
   "metadata": {},
   "outputs": [
    {
     "data": {
      "text/plain": [
       "'El 52.10% de los productores cumple con el criterio de tiempo completo'"
      ]
     },
     "execution_count": 15,
     "metadata": {},
     "output_type": "execute_result"
    }
   ],
   "source": [
    "c4 = consolidado['hrs_tot'] >= 1920\n",
    "\n",
    "'El {:.2%} de los productores cumple con el criterio de tiempo completo'.format(consolidado[c4].shape[0] / consolidado.shape[0])"
   ]
  },
  {
   "cell_type": "markdown",
   "id": "8d8027f8-dcb3-4780-b440-33ac7f6f6d91",
   "metadata": {},
   "source": [
    "#### Todos los criterios"
   ]
  },
  {
   "cell_type": "code",
   "execution_count": 16,
   "id": "463434d0-d22f-4a05-bf61-e00a05f20794",
   "metadata": {},
   "outputs": [
    {
     "data": {
      "text/plain": [
       "'El 45.97% de los productores cumple con todos los criterios'"
      ]
     },
     "execution_count": 16,
     "metadata": {},
     "output_type": "execute_result"
    }
   ],
   "source": [
    "'El {:.2%} de los productores cumple con todos los criterios'.format(consolidado[(c1|c2) & c3 & c4].shape[0] / consolidado.shape[0])"
   ]
  },
  {
   "cell_type": "code",
   "execution_count": 17,
   "id": "abb01b31-05fd-47fc-95b5-9b657192988a",
   "metadata": {},
   "outputs": [],
   "source": [
    "#consolidado[(c1|c2) & c3 & c4]"
   ]
  }
 ],
 "metadata": {
  "kernelspec": {
   "display_name": "Python 3 (ipykernel)",
   "language": "python",
   "name": "python3"
  },
  "language_info": {
   "codemirror_mode": {
    "name": "ipython",
    "version": 3
   },
   "file_extension": ".py",
   "mimetype": "text/x-python",
   "name": "python",
   "nbconvert_exporter": "python",
   "pygments_lexer": "ipython3",
   "version": "3.9.7"
  }
 },
 "nbformat": 4,
 "nbformat_minor": 5
}
